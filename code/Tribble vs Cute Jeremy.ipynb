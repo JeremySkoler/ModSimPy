{
 "cells": [
  {
   "cell_type": "code",
   "execution_count": 11,
   "metadata": {},
   "outputs": [],
   "source": [
    "# Configure Jupyter so figures appear in the notebook\n",
    "%matplotlib inline\n",
    "\n",
    "# Configure Jupyter to display the assigned value after an assignment\n",
    "%config InteractiveShell.ast_node_interactivity='last_expr_or_assign'\n",
    "\n",
    "# import functions from the modsim.py module\n",
    "from modsim import *\n",
    "\n",
    "from pandas import read_html"
   ]
  },
  {
   "cell_type": "code",
   "execution_count": 12,
   "metadata": {},
   "outputs": [],
   "source": [
    "\n",
    "#TribbleFish = system(surv_rate)\n",
    "#CuteFish = system (DeathRate = 0.05\n",
    "         #          BirthRate = 0.05"
   ]
  },
  {
   "cell_type": "code",
   "execution_count": null,
   "metadata": {},
   "outputs": [],
   "source": []
  },
  {
   "cell_type": "code",
   "execution_count": 162,
   "metadata": {},
   "outputs": [
    {
     "data": {
      "text/plain": [
       "0.03"
      ]
     },
     "execution_count": 162,
     "metadata": {},
     "output_type": "execute_result"
    }
   ],
   "source": [
    "#cute_birthRate = 0.05\n",
    "#cute_deathRate = 0.05\n",
    "#cute_carryingCapacity = 100\n",
    "#cute_totalPop = 1000\n",
    "#cute_availabelResources = 100\n",
    "\n",
    "#state = State (tribble_totalPop = 2)\n",
    "#tribble_growthRate = 0.03\n",
    "\n"
   ]
  },
  {
   "cell_type": "code",
   "execution_count": 163,
   "metadata": {},
   "outputs": [],
   "source": [
    "#def update_cute_growth (cute_availabelResources):\n",
    "#    cute_deathRate = 0.05 + (1 - cute_availabelResources / 100) * (0.95)\n",
    "#    cute_annualGrowth = cute_totalPop * (cute_birthRate - cute_deathRate)\n",
    "#    return cute_annualGrowth\n"
   ]
  },
  {
   "cell_type": "code",
   "execution_count": 164,
   "metadata": {},
   "outputs": [
    {
     "name": "stdout",
     "output_type": "stream",
     "text": [
      "0.05\n",
      "0.0\n"
     ]
    }
   ],
   "source": [
    "#print (update_cute_pop (100));\n"
   ]
  },
  {
   "cell_type": "code",
   "execution_count": 166,
   "metadata": {},
   "outputs": [
    {
     "ename": "IndentationError",
     "evalue": "unexpected indent (<ipython-input-166-52de89140bf3>, line 4)",
     "output_type": "error",
     "traceback": [
      "\u001b[1;36m  File \u001b[1;32m\"<ipython-input-166-52de89140bf3>\"\u001b[1;36m, line \u001b[1;32m4\u001b[0m\n\u001b[1;33m    return state.tribble_totalPop\u001b[0m\n\u001b[1;37m    ^\u001b[0m\n\u001b[1;31mIndentationError\u001b[0m\u001b[1;31m:\u001b[0m unexpected indent\n"
     ]
    }
   ],
   "source": [
    "#def update_tribble_pop():\n",
    "#    tribble_annualGrowth = tribble_totalPop * tribble_growthRate\n",
    "#    tribble_totalPop = tribble_totalPop + tribble_annualGrowth\n",
    "#        return tribble_totalPop"
   ]
  },
  {
   "cell_type": "code",
   "execution_count": 159,
   "metadata": {},
   "outputs": [
    {
     "name": "stdout",
     "output_type": "stream",
     "text": [
      "2.06\n"
     ]
    }
   ],
   "source": [
    "#print (update_tribble_pop());"
   ]
  },
  {
   "cell_type": "code",
   "execution_count": 160,
   "metadata": {},
   "outputs": [],
   "source": [
    "#def run_simulation():\n",
    "#    results = TimeSeries()\n",
    "#    results[0]= 2\n",
    "#    \n",
    "#    for t in range (20):\n",
    "#        results[t+1] = update_tribble_pop()\n",
    "        #tribble_annualGrowth = results[t] * tribble_growthRate\n",
    "        #results[t+1] = results [t] + tribble_annualGrowth\n",
    "#    plot(results)\n",
    "#    print(results)\n",
    "    "
   ]
  },
  {
   "cell_type": "code",
   "execution_count": 161,
   "metadata": {},
   "outputs": [
    {
     "name": "stdout",
     "output_type": "stream",
     "text": [
      "0     2.00\n",
      "1     2.06\n",
      "2     2.06\n",
      "3     2.06\n",
      "4     2.06\n",
      "5     2.06\n",
      "6     2.06\n",
      "7     2.06\n",
      "8     2.06\n",
      "9     2.06\n",
      "10    2.06\n",
      "11    2.06\n",
      "12    2.06\n",
      "13    2.06\n",
      "14    2.06\n",
      "15    2.06\n",
      "16    2.06\n",
      "17    2.06\n",
      "18    2.06\n",
      "19    2.06\n",
      "20    2.06\n",
      "dtype: float64\n"
     ]
    },
    {
     "data": {
      "image/png": "[encoded data removed]",
      "text/plain": [
       "<Figure size 432x288 with 1 Axes>"
      ]
     },
     "metadata": {},
     "output_type": "display_data"
    }
   ],
   "source": [
    "#run_simulation ()\n"
   ]
  },
  {
   "cell_type": "code",
   "execution_count": null,
   "metadata": {},
   "outputs": [],
   "source": []
  },
  {
   "cell_type": "code",
   "execution_count": null,
   "metadata": {},
   "outputs": [],
   "source": []
  }
 ],
 "metadata": {
  "kernelspec": {
   "display_name": "Python 3",
   "language": "python",
   "name": "python3"
  },
  "language_info": {
   "codemirror_mode": {
    "name": "ipython",
    "version": 3
   },
   "file_extension": ".py",
   "mimetype": "text/x-python",
   "name": "python",
   "nbconvert_exporter": "python",
   "pygments_lexer": "ipython3",
   "version": "3.6.6"
  }
 },
 "nbformat": 4,
 "nbformat_minor": 2
}
